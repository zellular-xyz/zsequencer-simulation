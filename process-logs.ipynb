{
 "cells": [
  {
   "cell_type": "code",
   "outputs": [],
   "source": [
    "import re\n",
    "import numpy as np\n",
    "\n",
    "def parse_execution_times_sec(log_file_path):\n",
    "    \"\"\"\n",
    "    Reads a log file, extracts execution times in nanoseconds for any function name, \n",
    "    and maps them into buckets (0-1s), (1-2s), etc., only returning non-empty buckets.\n",
    "\n",
    "    :param log_file_path: Path to the log file.\n",
    "    :return: Dictionary mapping execution time ranges (in seconds) to their count (only non-empty buckets).\n",
    "    \"\"\"\n",
    "    execution_times_ns = []\n",
    "\n",
    "    # Regex pattern to extract execution time for any function\n",
    "    pattern = re.compile(r\"Execution time of (\\w+):\\s*(\\d+)\\s*ns\")\n",
    "\n",
    "    # Read the log file\n",
    "    with open(log_file_path, \"r\") as file:\n",
    "        for line in file:\n",
    "            match = pattern.search(line)\n",
    "            if match:\n",
    "                execution_times_ns.append(int(match.group(2)))  # Extract nanoseconds value\n",
    "\n",
    "    # Return empty dictionary if no valid data\n",
    "    if not execution_times_ns:\n",
    "        return {}\n",
    "\n",
    "    # Convert nanoseconds to seconds\n",
    "    execution_times_sec = [t / 1e9 for t in execution_times_ns]\n",
    "\n",
    "    max_time = max(execution_times_sec)\n",
    "    bin_edges = np.arange(0, max_time + 1, 1)  # Create bins (0-1s, 1-2s, etc.)\n",
    "\n",
    "    # Compute histogram\n",
    "    counts, bin_edges = np.histogram(execution_times_sec, bins=bin_edges)\n",
    "\n",
    "    # Return only non-empty buckets\n",
    "    execution_time_buckets = {\n",
    "        (bin_edges[i], bin_edges[i+1]): counts[i]\n",
    "        for i in range(len(counts)) if counts[i] > 0\n",
    "    }\n",
    "\n",
    "    return execution_time_buckets"
   ],
   "metadata": {
    "collapsed": false,
    "ExecuteTime": {
     "end_time": "2025-01-30T10:58:43.444536Z",
     "start_time": "2025-01-30T10:58:43.355738Z"
    }
   },
   "id": "9429202c0c0e585e",
   "execution_count": 1
  },
  {
   "cell_type": "code",
   "outputs": [
    {
     "data": {
      "text/plain": "{(np.float64(0.0), np.float64(1.0)): np.int64(157455)}"
     },
     "execution_count": 5,
     "metadata": {},
     "output_type": "execute_result"
    }
   ],
   "source": [
    "parse_execution_times_sec(\"/tmp/zellular-simulation-logs/put_batch_executions.log\")"
   ],
   "metadata": {
    "collapsed": false,
    "ExecuteTime": {
     "end_time": "2025-01-30T11:07:22.493854Z",
     "start_time": "2025-01-30T11:07:22.408035Z"
    }
   },
   "id": "1b9a8d7fc51782ea",
   "execution_count": 5
  },
  {
   "cell_type": "code",
   "outputs": [
    {
     "data": {
      "text/plain": "{(np.float64(0.0), np.float64(1.0)): np.int64(158896),\n (np.float64(1.0), np.float64(2.0)): np.int64(2),\n (np.float64(3.0), np.float64(4.0)): np.int64(1),\n (np.float64(6.0), np.float64(7.0)): np.int64(13),\n (np.float64(13.0), np.float64(14.0)): np.int64(5),\n (np.float64(19.0), np.float64(20.0)): np.int64(4)}"
     },
     "execution_count": 6,
     "metadata": {},
     "output_type": "execute_result"
    }
   ],
   "source": [
    "parse_execution_times_sec(\"/tmp/zellular-simulation-logs/simulations.log\")"
   ],
   "metadata": {
    "collapsed": false,
    "ExecuteTime": {
     "end_time": "2025-01-30T11:07:24.097935Z",
     "start_time": "2025-01-30T11:07:24.004852Z"
    }
   },
   "id": "a234256bc04f482a",
   "execution_count": 6
  }
 ],
 "metadata": {
  "kernelspec": {
   "display_name": "Python 3",
   "language": "python",
   "name": "python3"
  },
  "language_info": {
   "codemirror_mode": {
    "name": "ipython",
    "version": 2
   },
   "file_extension": ".py",
   "mimetype": "text/x-python",
   "name": "python",
   "nbconvert_exporter": "python",
   "pygments_lexer": "ipython2",
   "version": "2.7.6"
  }
 },
 "nbformat": 4,
 "nbformat_minor": 5
}
