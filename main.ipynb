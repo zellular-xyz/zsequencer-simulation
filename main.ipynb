{
 "cells": [
  {
   "cell_type": "code",
   "execution_count": 1,
   "id": "initial_id",
   "metadata": {
    "collapsed": true,
    "ExecuteTime": {
     "end_time": "2025-01-20T19:09:47.297196Z",
     "start_time": "2025-01-20T19:09:47.287143Z"
    }
   },
   "outputs": [],
   "source": [
    "a = {'a':1, 'b':2}"
   ]
  },
  {
   "cell_type": "code",
   "outputs": [
    {
     "data": {
      "text/plain": "{'c': 3, 'd': 4, 'a': 1, 'b': 2}"
     },
     "execution_count": 2,
     "metadata": {},
     "output_type": "execute_result"
    }
   ],
   "source": [
    "{'c': 3, 'd': 4, **a}"
   ],
   "metadata": {
    "collapsed": false,
    "ExecuteTime": {
     "end_time": "2025-01-20T19:10:03.886295Z",
     "start_time": "2025-01-20T19:10:03.875748Z"
    }
   },
   "id": "3fbfb682aba92975",
   "execution_count": 2
  },
  {
   "cell_type": "code",
   "outputs": [],
   "source": [
    "# list({1,2,3} - {3})[0]\n",
    "a=[1,2]"
   ],
   "metadata": {
    "collapsed": false,
    "ExecuteTime": {
     "end_time": "2025-01-21T11:32:27.754814Z",
     "start_time": "2025-01-21T11:32:27.747255Z"
    }
   },
   "id": "f9dc266026d3f01e",
   "execution_count": 3
  },
  {
   "cell_type": "code",
   "outputs": [
    {
     "data": {
      "text/plain": "[1, 2, 3, 4]"
     },
     "execution_count": 6,
     "metadata": {},
     "output_type": "execute_result"
    }
   ],
   "source": [
    "[*[1,2,3], 4]"
   ],
   "metadata": {
    "collapsed": false,
    "ExecuteTime": {
     "end_time": "2025-01-21T11:36:11.779252Z",
     "start_time": "2025-01-21T11:36:11.774366Z"
    }
   },
   "id": "95120907ca726577",
   "execution_count": 6
  },
  {
   "cell_type": "code",
   "outputs": [
    {
     "name": "stdout",
     "output_type": "stream",
     "text": [
      "Collecting tqdm\r\n",
      "  Obtaining dependency information for tqdm from https://files.pythonhosted.org/packages/d0/30/dc54f88dd4a2b5dc8a0279bdd7270e735851848b762aeb1c1184ed1f6b14/tqdm-4.67.1-py3-none-any.whl.metadata\r\n",
      "  Downloading tqdm-4.67.1-py3-none-any.whl.metadata (57 kB)\r\n",
      "\u001B[2K     \u001B[90m━━━━━━━━━━━━━━━━━━━━━━━━━━━━━━━━━━━━━━━\u001B[0m \u001B[32m57.7/57.7 kB\u001B[0m \u001B[31m685.2 kB/s\u001B[0m eta \u001B[36m0:00:00\u001B[0m \u001B[36m0:00:01\u001B[0mm\r\n",
      "\u001B[?25hDownloading tqdm-4.67.1-py3-none-any.whl (78 kB)\r\n",
      "\u001B[2K   \u001B[90m━━━━━━━━━━━━━━━━━━━━━━━━━━━━━━━━━━━━━━━━\u001B[0m \u001B[32m78.5/78.5 kB\u001B[0m \u001B[31m253.6 kB/s\u001B[0m eta \u001B[36m0:00:00\u001B[0ma \u001B[36m0:00:01\u001B[0m\r\n",
      "\u001B[?25hInstalling collected packages: tqdm\r\n",
      "Successfully installed tqdm-4.67.1\r\n",
      "\r\n",
      "\u001B[1m[\u001B[0m\u001B[34;49mnotice\u001B[0m\u001B[1;39;49m]\u001B[0m\u001B[39;49m A new release of pip is available: \u001B[0m\u001B[31;49m23.2.1\u001B[0m\u001B[39;49m -> \u001B[0m\u001B[32;49m24.3.1\u001B[0m\r\n",
      "\u001B[1m[\u001B[0m\u001B[34;49mnotice\u001B[0m\u001B[1;39;49m]\u001B[0m\u001B[39;49m To update, run: \u001B[0m\u001B[32;49mpip install --upgrade pip\u001B[0m\r\n"
     ]
    }
   ],
   "source": [
    "!pip install tqdm"
   ],
   "metadata": {
    "collapsed": false,
    "ExecuteTime": {
     "end_time": "2025-01-22T23:17:15.629436Z",
     "start_time": "2025-01-22T23:17:11.931868Z"
    }
   },
   "id": "5acd2acf72298d8",
   "execution_count": 1
  },
  {
   "cell_type": "code",
   "outputs": [
    {
     "name": "stderr",
     "output_type": "stream",
     "text": [
      "Processing: 100%|██████████| 100/100 [00:10<00:00,  9.56it/s]\n"
     ]
    }
   ],
   "source": [
    "from tqdm import tqdm\n",
    "import time\n",
    "\n",
    "# Example: Simple Progress Bar in a Loop\n",
    "for i in tqdm(range(100), desc=\"Processing\"):\n",
    "    time.sleep(0.1)  # Simulate a task taking some time\n"
   ],
   "metadata": {
    "collapsed": false,
    "ExecuteTime": {
     "end_time": "2025-01-22T23:17:35.780257Z",
     "start_time": "2025-01-22T23:17:25.278414Z"
    }
   },
   "id": "603d45ee9926e01d",
   "execution_count": 2
  },
  {
   "cell_type": "code",
   "outputs": [],
   "source": [
    "a = [1,2,3,4,5]"
   ],
   "metadata": {
    "collapsed": false,
    "ExecuteTime": {
     "end_time": "2025-01-23T11:28:04.040304Z",
     "start_time": "2025-01-23T11:28:04.035056Z"
    }
   },
   "id": "c57924caa02cdfc",
   "execution_count": 1
  },
  {
   "cell_type": "code",
   "outputs": [
    {
     "data": {
      "text/plain": "[5, 4, 3, 2, 1]"
     },
     "execution_count": 2,
     "metadata": {},
     "output_type": "execute_result"
    }
   ],
   "source": [
    "sorted(\n",
    "        a,\n",
    "        # key=lambda x: x[\"sequenced_index\"],\n",
    "        reverse=True,\n",
    "    )"
   ],
   "metadata": {
    "collapsed": false,
    "ExecuteTime": {
     "end_time": "2025-01-23T11:28:15.754992Z",
     "start_time": "2025-01-23T11:28:15.744835Z"
    }
   },
   "id": "bab6eda2e613ab58",
   "execution_count": 2
  },
  {
   "cell_type": "code",
   "outputs": [
    {
     "data": {
      "text/plain": "[1, 2, 3, 4, 5]"
     },
     "execution_count": 3,
     "metadata": {},
     "output_type": "execute_result"
    }
   ],
   "source": [
    "a"
   ],
   "metadata": {
    "collapsed": false,
    "ExecuteTime": {
     "end_time": "2025-01-23T11:28:22.208511Z",
     "start_time": "2025-01-23T11:28:22.194888Z"
    }
   },
   "id": "d81a805915899b68",
   "execution_count": 3
  },
  {
   "cell_type": "code",
   "outputs": [
    {
     "data": {
      "text/plain": "[5, 4, 3, 2, 1]"
     },
     "execution_count": 4,
     "metadata": {},
     "output_type": "execute_result"
    }
   ],
   "source": [
    "a[::-1]"
   ],
   "metadata": {
    "collapsed": false,
    "ExecuteTime": {
     "end_time": "2025-01-23T11:29:14.942751Z",
     "start_time": "2025-01-23T11:29:14.933822Z"
    }
   },
   "id": "bb8ed8ffa328f0f0",
   "execution_count": 4
  },
  {
   "cell_type": "code",
   "outputs": [],
   "source": [
    "def main(a,b):\n",
    "    print(a+b)"
   ],
   "metadata": {
    "collapsed": false,
    "ExecuteTime": {
     "end_time": "2025-01-25T14:31:38.003026Z",
     "start_time": "2025-01-25T14:31:37.993984Z"
    }
   },
   "id": "c4ea020abc67a3b3",
   "execution_count": 1
  },
  {
   "cell_type": "code",
   "outputs": [
    {
     "name": "stdout",
     "output_type": "stream",
     "text": [
      "3\n"
     ]
    }
   ],
   "source": [
    "main(*(1,2))"
   ],
   "metadata": {
    "collapsed": false,
    "ExecuteTime": {
     "end_time": "2025-01-25T14:31:56.496391Z",
     "start_time": "2025-01-25T14:31:56.489121Z"
    }
   },
   "id": "be9d2ee455777b18",
   "execution_count": 3
  },
  {
   "cell_type": "code",
   "outputs": [
    {
     "name": "stdout",
     "output_type": "stream",
     "text": [
      "6001\n",
      "6002\n"
     ]
    }
   ],
   "source": [
    "import re\n",
    "\n",
    "def extract_port(socket_str):\n",
    "    \"\"\"\n",
    "    Extracts the port number from a socket string.\n",
    "\n",
    "    Args:\n",
    "        socket_str (str): The socket string in the format 'protocol://host:port' or 'protocol://host:port/'.\n",
    "\n",
    "    Returns:\n",
    "        int: The extracted port number.\n",
    "    \"\"\"\n",
    "    match = re.search(r\":(\\d+)(?:/|$)\", socket_str)\n",
    "    if match:\n",
    "        return int(match.group(1))\n",
    "    else:\n",
    "        raise ValueError(\"No valid port found in the given string.\")\n",
    "\n",
    "# Example usage\n",
    "sockets = ['http://127.0.0.1:6001', 'http://127.0.0.1:6002/']\n",
    "for socket in sockets:\n",
    "    print(extract_port(socket))\n"
   ],
   "metadata": {
    "collapsed": false,
    "ExecuteTime": {
     "end_time": "2025-01-25T15:27:57.907214Z",
     "start_time": "2025-01-25T15:27:57.891722Z"
    }
   },
   "id": "77a5f517d7fab86f",
   "execution_count": 6
  },
  {
   "cell_type": "code",
   "outputs": [
    {
     "data": {
      "text/plain": "'a4a72798-2047-4237-8020-ff6a81200187'"
     },
     "execution_count": 11,
     "metadata": {},
     "output_type": "execute_result"
    }
   ],
   "source": [
    "from uuid import uuid4\n",
    "\n",
    "str(uuid4())"
   ],
   "metadata": {
    "collapsed": false,
    "ExecuteTime": {
     "end_time": "2025-01-25T15:53:17.166453Z",
     "start_time": "2025-01-25T15:53:17.151259Z"
    }
   },
   "id": "de351355eb129ed9",
   "execution_count": 11
  },
  {
   "cell_type": "code",
   "outputs": [
    {
     "name": "stdout",
     "output_type": "stream",
     "text": [
      "Reading key: 0Adding key: 5\n",
      "\n",
      "Error: dictionary changed size during iteration\n",
      "Adding key: 6\n",
      "Adding key: 7\n",
      "Adding key: 8\n",
      "Adding key: 9\n"
     ]
    }
   ],
   "source": [
    "import threading\n",
    "import time\n",
    "\n",
    "# Shared dictionary\n",
    "shared_dict = {i: i for i in range(5)}\n",
    "\n",
    "def read_from_dict():\n",
    "    try:\n",
    "        for key in shared_dict:\n",
    "            print(f\"Reading key: {key}\")\n",
    "            time.sleep(0.1)  # Simulate some processing delay\n",
    "    except RuntimeError as e:\n",
    "        print(f\"Error: {e}\")\n",
    "\n",
    "def write_to_dict():\n",
    "    for i in range(5, 10):\n",
    "        print(f\"Adding key: {i}\")\n",
    "        shared_dict[i] = i\n",
    "        time.sleep(0.2)  # Simulate some delay in writing\n",
    "\n",
    "# Create threads\n",
    "reader_thread = threading.Thread(target=read_from_dict)\n",
    "writer_thread = threading.Thread(target=write_to_dict)\n",
    "\n",
    "# Start threads\n",
    "reader_thread.start()\n",
    "writer_thread.start()\n",
    "\n",
    "# Wait for threads to complete\n",
    "reader_thread.join()\n",
    "writer_thread.join()\n"
   ],
   "metadata": {
    "collapsed": false,
    "ExecuteTime": {
     "end_time": "2025-01-26T05:46:08.086897Z",
     "start_time": "2025-01-26T05:46:07.069583Z"
    }
   },
   "id": "d8669a04d678a558",
   "execution_count": 1
  }
 ],
 "metadata": {
  "kernelspec": {
   "display_name": "Python 3",
   "language": "python",
   "name": "python3"
  },
  "language_info": {
   "codemirror_mode": {
    "name": "ipython",
    "version": 2
   },
   "file_extension": ".py",
   "mimetype": "text/x-python",
   "name": "python",
   "nbconvert_exporter": "python",
   "pygments_lexer": "ipython2",
   "version": "2.7.6"
  }
 },
 "nbformat": 4,
 "nbformat_minor": 5
}
